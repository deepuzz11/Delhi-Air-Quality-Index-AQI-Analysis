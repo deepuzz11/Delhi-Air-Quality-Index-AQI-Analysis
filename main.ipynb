{
 "cells": [
  {
   "cell_type": "code",
   "execution_count": 15,
   "metadata": {},
   "outputs": [
    {
     "name": "stdout",
     "output_type": "stream",
     "text": [
      "Missing values before handling:\n",
      "co       0\n",
      "no       0\n",
      "no2      0\n",
      "o3       0\n",
      "so2      0\n",
      "pm2_5    0\n",
      "pm10     0\n",
      "nh3      0\n",
      "dtype: int64\n",
      "\n",
      "Descriptive Statistics:\n",
      "                 co          no         no2          o3         so2  \\\n",
      "count    561.000000  561.000000  561.000000  561.000000  561.000000   \n",
      "mean    3814.942210   51.181979   75.292496   30.141943   64.655936   \n",
      "std     3227.744681   83.904476   42.473791   39.979405   61.073080   \n",
      "min      654.220000    0.000000   13.370000    0.000000    5.250000   \n",
      "25%     1708.980000    3.380000   44.550000    0.070000   28.130000   \n",
      "50%     2590.180000   13.300000   63.750000   11.800000   47.210000   \n",
      "75%     4432.680000   59.010000   97.330000   47.210000   77.250000   \n",
      "max    16876.220000  425.580000  263.210000  164.510000  511.170000   \n",
      "\n",
      "             pm2_5         pm10         nh3  \n",
      "count   561.000000   561.000000  561.000000  \n",
      "mean    358.256364   420.988414   26.425062  \n",
      "std     227.359117   271.287026   36.563094  \n",
      "min      60.100000    69.080000    0.630000  \n",
      "25%     204.450000   240.900000    8.230000  \n",
      "50%     301.170000   340.900000   14.820000  \n",
      "75%     416.650000   482.570000   26.350000  \n",
      "max    1310.200000  1499.270000  267.510000  \n"
     ]
    },
    {
     "name": "stderr",
     "output_type": "stream",
     "text": [
      "C:\\Users\\deepi\\AppData\\Local\\Temp\\ipykernel_10504\\1311261988.py:14: FutureWarning:\n",
      "\n",
      "DataFrame.fillna with 'method' is deprecated and will raise in a future version. Use obj.ffill() or obj.bfill() instead.\n",
      "\n"
     ]
    },
    {
     "name": "stdout",
     "output_type": "stream",
     "text": [
      "\n",
      "Plots saved as HTML files:\n",
      "1. Seasonal Variation: 'seasonal_variation_pm25.html'\n",
      "2. Time Series: 'time_series_pm25.html'\n",
      "3. Correlation Matrix: 'correlation_matrix_heatmap.html'\n"
     ]
    }
   ],
   "source": [
    "import pandas as pd\n",
    "import plotly.express as px\n",
    "import plotly.io as pio\n",
    "\n",
    "# Load the dataset\n",
    "file_path = 'delhiaqi.csv'\n",
    "data = pd.read_csv(file_path, parse_dates=['date'], index_col='date')\n",
    "\n",
    "# Check for missing values\n",
    "print(\"Missing values before handling:\")\n",
    "print(data.isnull().sum())\n",
    "\n",
    "# Fill missing values (or handle them as needed)\n",
    "data = data.fillna(method='ffill')  # Forward fill missing values\n",
    "\n",
    "# Descriptive statistics\n",
    "print(\"\\nDescriptive Statistics:\")\n",
    "print(data.describe())\n",
    "\n",
    "# Add a 'season' column based on the month\n",
    "data['season'] = data.index.month % 12 // 3 + 1\n",
    "data['season'] = data['season'].map({1: 'Winter', 2: 'Spring', 3: 'Summer', 4: 'Autumn'})\n",
    "\n",
    "# Seasonal Variation Analysis using Plotly\n",
    "seasonal_boxplot = px.box(data, x='season', y='pm2_5', title='Seasonal Variation in PM2.5 Levels',\n",
    "                          labels={'season': 'Season', 'pm2_5': 'PM2.5'})\n",
    "seasonal_boxplot.update_layout(yaxis_title='PM2.5', xaxis_title='Season')\n",
    "seasonal_boxplot.write_html('seasonal_variation_pm25.html', auto_open=True)\n",
    "\n",
    "# Time Series Analysis using Plotly\n",
    "time_series_plot = px.line(data, x=data.index, y='pm2_5', title='PM2.5 Levels Over Time',\n",
    "                          labels={'date': 'Date', 'pm2_5': 'PM2.5'})\n",
    "time_series_plot.update_layout(xaxis_title='Date', yaxis_title='PM2.5')\n",
    "time_series_plot.write_html('time_series_pm25.html', auto_open=True)\n",
    "\n",
    "# Correlation Matrix Analysis using Plotly\n",
    "# Exclude non-numeric columns\n",
    "numeric_data = data.select_dtypes(include=['float64', 'int64'])\n",
    "correlation_matrix = numeric_data.corr()\n",
    "\n",
    "correlation_heatmap = px.imshow(correlation_matrix, text_auto=True, color_continuous_scale='Viridis',\n",
    "                                title='Correlation Matrix of Pollutants')\n",
    "correlation_heatmap.update_layout(xaxis_title='Pollutants', yaxis_title='Pollutants')\n",
    "correlation_heatmap.write_html('correlation_matrix_heatmap.html', auto_open=True)\n",
    "\n",
    "print(\"\\nPlots saved as HTML files:\")\n",
    "print(\"1. Seasonal Variation: 'seasonal_variation_pm25.html'\")\n",
    "print(\"2. Time Series: 'time_series_pm25.html'\")\n",
    "print(\"3. Correlation Matrix: 'correlation_matrix_heatmap.html'\")\n"
   ]
  },
  {
   "cell_type": "markdown",
   "metadata": {},
   "source": [
    "# CROSS-VALIDATION "
   ]
  },
  {
   "cell_type": "code",
   "execution_count": 18,
   "metadata": {},
   "outputs": [
    {
     "name": "stderr",
     "output_type": "stream",
     "text": [
      "C:\\Users\\deepi\\AppData\\Local\\Temp\\ipykernel_10504\\1726135968.py:12: FutureWarning:\n",
      "\n",
      "DataFrame.fillna with 'method' is deprecated and will raise in a future version. Use obj.ffill() or obj.bfill() instead.\n",
      "\n"
     ]
    },
    {
     "name": "stdout",
     "output_type": "stream",
     "text": [
      "Fitting 5 folds for each of 12 candidates, totalling 60 fits\n",
      "Best parameters: {'learning_rate': 0.1, 'max_depth': 3, 'n_estimators': 200}\n",
      "Mean Absolute Error (MAE): 13.0963\n",
      "Mean Squared Error (MSE): 328.1647\n",
      "Root Mean Squared Error (RMSE): 18.1153\n",
      "R-squared (R²): 0.9910\n"
     ]
    }
   ],
   "source": [
    "import pandas as pd\n",
    "import numpy as np\n",
    "from sklearn.model_selection import train_test_split, cross_val_score, GridSearchCV\n",
    "from sklearn.metrics import mean_absolute_error, mean_squared_error, r2_score\n",
    "from xgboost import XGBRegressor\n",
    "\n",
    "# Load the dataset\n",
    "file_path = 'delhiaqi.csv'\n",
    "data = pd.read_csv(file_path, parse_dates=['date'], index_col='date')\n",
    "\n",
    "# Handle missing values\n",
    "data = data.fillna(method='ffill')\n",
    "\n",
    "# Feature engineering (example: using all columns except 'pm2_5' as features)\n",
    "features = data.drop(columns=['pm2_5'])\n",
    "target = data['pm2_5']\n",
    "\n",
    "# Split the data into training and testing sets\n",
    "X_train, X_test, y_train, y_test = train_test_split(features, target, test_size=0.2, random_state=42)\n",
    "\n",
    "# Hyperparameter tuning using GridSearchCV\n",
    "param_grid = {\n",
    "    'n_estimators': [100, 200],\n",
    "    'learning_rate': [0.01, 0.1],\n",
    "    'max_depth': [3, 5, 7]\n",
    "}\n",
    "grid_search = GridSearchCV(XGBRegressor(), param_grid, cv=5, scoring='neg_mean_squared_error', verbose=1)\n",
    "grid_search.fit(X_train, y_train)\n",
    "\n",
    "# Best parameters from GridSearchCV\n",
    "print(f\"Best parameters: {grid_search.best_params_}\")\n",
    "\n",
    "# Initialize and train the model with the best parameters\n",
    "best_model = grid_search.best_estimator_\n",
    "best_model.fit(X_train, y_train)\n",
    "\n",
    "# Make predictions\n",
    "y_pred = best_model.predict(X_test)\n",
    "\n",
    "# Evaluate the model\n",
    "mae = mean_absolute_error(y_test, y_pred)\n",
    "mse = mean_squared_error(y_test, y_pred)\n",
    "rmse = np.sqrt(mse)\n",
    "r2 = r2_score(y_test, y_pred)\n",
    "\n",
    "# Print metrics\n",
    "print(f\"Mean Absolute Error (MAE): {mae:.4f}\")\n",
    "print(f\"Mean Squared Error (MSE): {mse:.4f}\")\n",
    "print(f\"Root Mean Squared Error (RMSE): {rmse:.4f}\")\n",
    "print(f\"R-squared (R²): {r2:.4f}\")\n"
   ]
  }
 ],
 "metadata": {
  "kernelspec": {
   "display_name": "Python 3",
   "language": "python",
   "name": "python3"
  },
  "language_info": {
   "codemirror_mode": {
    "name": "ipython",
    "version": 3
   },
   "file_extension": ".py",
   "mimetype": "text/x-python",
   "name": "python",
   "nbconvert_exporter": "python",
   "pygments_lexer": "ipython3",
   "version": "3.12.3"
  }
 },
 "nbformat": 4,
 "nbformat_minor": 2
}
